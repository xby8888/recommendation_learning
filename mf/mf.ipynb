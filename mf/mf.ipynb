{
 "cells": [
  {
   "cell_type": "code",
   "execution_count": 22,
   "metadata": {},
   "outputs": [],
   "source": [
    "import tensorflow as tf\n",
    "import matplotlib.pyplot as plt\n",
    "import numpy as np\n",
    "import pandas as pd\n",
    "from collections import defaultdict"
   ]
  },
  {
   "cell_type": "code",
   "execution_count": 17,
   "metadata": {},
   "outputs": [],
   "source": [
    "#导入数据集\n",
    "df_rating= pd.read_csv(\"../data/ml-1m/ratings.dat\", sep=\"::\", header=None, engine=\"python\", \n",
    "                     names=\"UserID::MovieID::Rating::Timestamp\".split(\"::\"))"
   ]
  },
  {
   "cell_type": "code",
   "execution_count": 18,
   "metadata": {},
   "outputs": [
    {
     "data": {
      "text/html": [
       "<div>\n",
       "<style scoped>\n",
       "    .dataframe tbody tr th:only-of-type {\n",
       "        vertical-align: middle;\n",
       "    }\n",
       "\n",
       "    .dataframe tbody tr th {\n",
       "        vertical-align: top;\n",
       "    }\n",
       "\n",
       "    .dataframe thead th {\n",
       "        text-align: right;\n",
       "    }\n",
       "</style>\n",
       "<table border=\"1\" class=\"dataframe\">\n",
       "  <thead>\n",
       "    <tr style=\"text-align: right;\">\n",
       "      <th></th>\n",
       "      <th>UserID</th>\n",
       "      <th>MovieID</th>\n",
       "      <th>Rating</th>\n",
       "      <th>Timestamp</th>\n",
       "    </tr>\n",
       "  </thead>\n",
       "  <tbody>\n",
       "    <tr>\n",
       "      <th>599152</th>\n",
       "      <td>3648</td>\n",
       "      <td>2808</td>\n",
       "      <td>2</td>\n",
       "      <td>994802583</td>\n",
       "    </tr>\n",
       "    <tr>\n",
       "      <th>487811</th>\n",
       "      <td>3001</td>\n",
       "      <td>1645</td>\n",
       "      <td>4</td>\n",
       "      <td>970619293</td>\n",
       "    </tr>\n",
       "    <tr>\n",
       "      <th>481946</th>\n",
       "      <td>2962</td>\n",
       "      <td>3360</td>\n",
       "      <td>2</td>\n",
       "      <td>978644772</td>\n",
       "    </tr>\n",
       "    <tr>\n",
       "      <th>594636</th>\n",
       "      <td>3619</td>\n",
       "      <td>1093</td>\n",
       "      <td>5</td>\n",
       "      <td>966583842</td>\n",
       "    </tr>\n",
       "    <tr>\n",
       "      <th>317425</th>\n",
       "      <td>1889</td>\n",
       "      <td>2990</td>\n",
       "      <td>4</td>\n",
       "      <td>989089408</td>\n",
       "    </tr>\n",
       "  </tbody>\n",
       "</table>\n",
       "</div>"
      ],
      "text/plain": [
       "        UserID  MovieID  Rating  Timestamp\n",
       "599152    3648     2808       2  994802583\n",
       "487811    3001     1645       4  970619293\n",
       "481946    2962     3360       2  978644772\n",
       "594636    3619     1093       5  966583842\n",
       "317425    1889     2990       4  989089408"
      ]
     },
     "execution_count": 18,
     "metadata": {},
     "output_type": "execute_result"
    }
   ],
   "source": [
    "#随机采样\n",
    "df_rating_sample = df_rating.sample(frac = 0.01)\n",
    "df_rating_sample.head()"
   ]
  },
  {
   "cell_type": "code",
   "execution_count": 19,
   "metadata": {},
   "outputs": [
    {
     "name": "stdout",
     "output_type": "stream",
     "text": [
      "(3712,) (2303,)\n"
     ]
    }
   ],
   "source": [
    "#取出所有用户和电影ID\n",
    "user = df_rating_sample[\"UserID\"].unique()\n",
    "movie = df_rating_sample[\"MovieID\"].unique()\n",
    "print(user.shape, movie.shape)"
   ]
  },
  {
   "cell_type": "code",
   "execution_count": 23,
   "metadata": {},
   "outputs": [],
   "source": [
    "#构造用户电影和评分的字典，为接下来构造共现矩阵做铺垫\n",
    "rating_dict = defaultdict(int)"
   ]
  },
  {
   "cell_type": "code",
   "execution_count": 24,
   "metadata": {},
   "outputs": [
    {
     "name": "stdout",
     "output_type": "stream",
     "text": [
      "10002\n"
     ]
    }
   ],
   "source": [
    "for index, row in df_rating_sample.iterrows():\n",
    "    userid = row[\"UserID\"]\n",
    "    movieid = row[\"MovieID\"]\n",
    "    rating = row[\"Rating\"]\n",
    "    key = (userid, movieid)\n",
    "    rating_dict[key] = rating\n",
    "print(len(rating_dict))"
   ]
  },
  {
   "cell_type": "code",
   "execution_count": 25,
   "metadata": {},
   "outputs": [
    {
     "name": "stdout",
     "output_type": "stream",
     "text": [
      "3712 2303 2\n"
     ]
    }
   ],
   "source": [
    "#构造共现矩阵，行索引代表用户id，列索引代表电影id\n",
    "co_matrix = []\n",
    "i = 0\n",
    "j = 0\n",
    "for i in range(len(user)):\n",
    "    l = []\n",
    "    for j in range(len(movie)):\n",
    "        key = (user[i], movie[j])\n",
    "        l.append(rating_dict[key])\n",
    "    co_matrix.append(l)\n",
    "print(len(co_matrix), len(co_matrix[0]), co_matrix[0][0])\n",
    "np_matrix = np.array(co_matrix)"
   ]
  },
  {
   "cell_type": "code",
   "execution_count": 82,
   "metadata": {},
   "outputs": [],
   "source": [
    "class MF(object):\n",
    "    def __init__(self, k, m, n):\n",
    "        self.User = tf.Variable(tf.random.normal((m, k), mean=0.0, stddev=1.0, dtype=tf.float32, seed=None, name=None))\n",
    "        self.Item = tf.Variable(tf.random.normal((n, k), mean=0.0, stddev=1.0, dtype=tf.float32, seed=None, name=None))\n",
    "    \n",
    "    def __call__(self):\n",
    "        return tf.matmul(self.User, tf.transpose(self.Item))"
   ]
  },
  {
   "cell_type": "code",
   "execution_count": 83,
   "metadata": {},
   "outputs": [],
   "source": [
    "model = MF(12, np_matrix.shape[0], np_matrix.shape[1])"
   ]
  },
  {
   "cell_type": "code",
   "execution_count": 84,
   "metadata": {},
   "outputs": [],
   "source": [
    "def loss(predicted_y, desired_y):\n",
    "  return tf.reduce_mean(tf.square(predicted_y - desired_y))"
   ]
  },
  {
   "cell_type": "code",
   "execution_count": 123,
   "metadata": {},
   "outputs": [],
   "source": [
    "#损失函数加正则化\n",
    "def loss_regularization(predicted_y, desired_y, user_v, item_v):\n",
    "  return tf.reduce_mean(tf.square(predicted_y - desired_y)) + (tf.reduce_sum(tf.square(user_v)) + tf.reduce_sum(tf.square(item_v)))"
   ]
  },
  {
   "cell_type": "code",
   "execution_count": 124,
   "metadata": {},
   "outputs": [],
   "source": [
    "def train(model, real_outputs, learning_rate):\n",
    "  with tf.GradientTape() as t:\n",
    "    #current_loss = loss(model(), real_outputs)\n",
    "    current_loss = loss_regularization(model(), real_outputs, model.User, model.Item)\n",
    "  dUser, dItem = t.gradient(current_loss, [model.User, model.Item])\n",
    "  model.User.assign_sub(learning_rate * dUser)\n",
    "  model.Item.assign_sub(learning_rate * dItem)"
   ]
  },
  {
   "cell_type": "code",
   "execution_count": 125,
   "metadata": {},
   "outputs": [
    {
     "name": "stdout",
     "output_type": "stream",
     "text": [
      "Epoch  0: loss=680.52429\n",
      "Epoch  1: loss=435.54056\n",
      "Epoch  2: loss=278.75153\n",
      "Epoch  3: loss=178.40675\n",
      "Epoch  4: loss=114.18620\n",
      "Epoch  5: loss=73.08508\n",
      "Epoch  6: loss=46.78037\n",
      "Epoch  7: loss=29.94537\n",
      "Epoch  8: loss=19.17097\n",
      "Epoch  9: loss=12.27536\n"
     ]
    }
   ],
   "source": [
    "epochs = range(10)\n",
    "loss_list = []\n",
    "for epoch in epochs:\n",
    "  #current_loss = loss(model(), np_matrix)\n",
    "  current_loss = loss_regularization(model(), np_matrix, model.User, model.Item)\n",
    "  loss_list.append(current_loss)\n",
    "  train(model, np_matrix, learning_rate=0.1)\n",
    "  print('Epoch %2d: loss=%2.5f' %\n",
    "        (epoch, current_loss))"
   ]
  },
  {
   "cell_type": "code",
   "execution_count": 126,
   "metadata": {},
   "outputs": [
    {
     "data": {
      "image/png": "[encoded data removed]",
      "text/plain": [
       "<Figure size 432x288 with 1 Axes>"
      ]
     },
     "metadata": {
      "needs_background": "light"
     },
     "output_type": "display_data"
    }
   ],
   "source": [
    "plt.plot(epochs, loss_list, 'r')\n",
    "plt.show()"
   ]
  },
  {
   "cell_type": "code",
   "execution_count": 127,
   "metadata": {},
   "outputs": [
    {
     "name": "stdout",
     "output_type": "stream",
     "text": [
      "(3712, 12) (2303, 12)\n",
      "tf.Tensor(\n",
      "[[-1.20340912e-02  1.00606466e-02  5.25605446e-03 -1.30256712e-02\n",
      "   8.71887617e-03 -4.99879057e-03 -2.37339921e-03 -8.48810747e-03\n",
      "  -6.03483757e-03 -1.68493837e-02  1.42469313e-02 -3.38740437e-03]\n",
      " [ 1.34525672e-02  1.06363110e-02 -6.84150029e-03 -1.35153886e-02\n",
      "  -9.39052334e-05  5.90960030e-03  1.28760617e-02 -5.47733996e-03\n",
      "   3.93340457e-03 -3.57426750e-03 -1.32090971e-02 -1.63472537e-02]\n",
      " [-1.18230432e-02  1.03844632e-03  8.51116143e-03  2.22023595e-02\n",
      "   1.04575288e-02 -1.03518169e-03 -5.10271813e-04  3.72156268e-03\n",
      "  -1.09675890e-02 -2.46725418e-02  1.64364856e-02 -8.39038007e-03]\n",
      " [-8.96301121e-03  3.06968410e-02  2.43217740e-02  1.65761478e-04\n",
      "   1.37555618e-02 -5.13131684e-03  1.69934183e-02 -1.80249568e-02\n",
      "  -2.10093940e-03 -4.31997608e-03 -1.33270184e-02  8.63156188e-03]\n",
      " [ 1.34993391e-03 -3.70443845e-03 -6.42267801e-03 -4.84565180e-03\n",
      "  -1.59242121e-03  8.63001868e-03  1.12665063e-02 -3.19903865e-02\n",
      "  -8.78281798e-03  1.28479172e-02  3.10258870e-03 -8.02137237e-03]\n",
      " [ 1.21403988e-02 -5.95043320e-03  1.71277672e-02  2.71720416e-03\n",
      "  -6.46832492e-03 -1.65719837e-02  2.83048046e-03 -7.59437913e-03\n",
      "  -3.01948469e-03 -2.40006391e-03 -5.95272379e-03 -2.35097529e-03]\n",
      " [ 2.28847899e-02  7.50881480e-03 -2.03840551e-03 -1.08245816e-02\n",
      "   5.39268833e-03 -6.42831763e-03  3.48869525e-03  1.03563666e-02\n",
      "   8.75067990e-03  3.17781866e-02  1.34279393e-02 -8.91619083e-03]\n",
      " [-9.41989385e-03  1.74565222e-02  8.82061943e-03  6.08317042e-03\n",
      "   2.24938313e-03 -1.01838894e-02 -2.27050520e-02  5.84984990e-03\n",
      "   9.49606951e-03  1.09748053e-03 -7.73340324e-03  1.09675014e-02]\n",
      " [-3.67163029e-03  2.15236787e-02  1.49911279e-02 -1.07220199e-03\n",
      "  -2.12173127e-02  4.86915978e-03 -1.21885212e-03  1.68935861e-02\n",
      "   3.07795964e-03  1.48246568e-02 -2.36280169e-03 -1.85730532e-02]\n",
      " [ 7.69550260e-03  8.77744693e-04 -1.31211709e-03 -4.46710037e-03\n",
      "  -2.83571542e-04 -1.14312936e-02  6.79548504e-03  2.57492973e-03\n",
      "   1.22996522e-02  1.66222453e-03 -3.16981366e-03  1.00624105e-02]], shape=(10, 12), dtype=float32)\n",
      "tf.Tensor(\n",
      "[[ 6.89733308e-03 -1.11962967e-04 -1.46184620e-02  4.52950131e-03\n",
      "   1.56649444e-02  6.58292044e-03 -2.37539178e-03 -5.48476912e-03\n",
      "  -2.70844135e-03  6.82639470e-03 -2.95092491e-03 -2.41276808e-03]\n",
      " [-2.42538657e-02  7.67238950e-03  3.53120863e-02  2.24786624e-02\n",
      "   1.70440809e-03 -2.03414517e-03 -1.07864793e-02 -4.76447865e-03\n",
      "  -1.08857071e-02  1.23470761e-02  1.28656197e-02 -1.76826436e-02]\n",
      " [-1.52796810e-03 -8.35348573e-03  8.26376863e-03  6.34191744e-03\n",
      "  -3.55087686e-03 -6.16050325e-03 -8.72413628e-03  6.91454799e-04\n",
      "   3.75665235e-03  1.68787576e-02 -3.80738638e-03  1.55729917e-03]\n",
      " [ 4.09682654e-03 -6.80706231e-03  5.15411887e-03 -1.10672442e-02\n",
      "   1.45460926e-02 -4.59747529e-03 -2.37363819e-02 -1.20538305e-02\n",
      "  -9.15009808e-03  7.99894426e-03 -2.31329841e-03 -9.88926273e-04]\n",
      " [-3.31976125e-03 -1.53323840e-02 -2.36941781e-02  1.47527698e-02\n",
      "  -1.00581795e-02 -8.38338025e-03  1.11347754e-02 -3.64300748e-03\n",
      "   2.23259963e-02 -1.35007836e-02  1.90698821e-02  2.81836651e-03]\n",
      " [ 2.73031695e-03 -1.97999142e-02  1.35945389e-03  6.52239518e-03\n",
      "   1.03259562e-02 -4.63062373e-04  1.73953413e-05  1.05911400e-03\n",
      "   2.11733859e-03 -6.05838606e-03 -6.53176475e-03 -1.08870557e-02]\n",
      " [-7.99237005e-03 -3.43756843e-03 -1.44180767e-02  6.25494402e-03\n",
      "  -2.26669217e-04  5.81802940e-03 -1.17524453e-02 -3.46335582e-03\n",
      "  -1.11465733e-02 -1.24982296e-04  1.90519507e-03 -2.17538467e-03]\n",
      " [ 1.92795340e-02 -1.67328473e-02 -8.86407588e-03 -8.65358114e-03\n",
      "  -1.75110158e-02  2.22925469e-02  6.76912605e-04  4.18907451e-03\n",
      "  -1.27887800e-02  1.19310990e-02  1.28520676e-03 -1.78527518e-03]\n",
      " [-3.28044873e-03 -2.45068949e-02 -8.97525623e-03  1.28104547e-02\n",
      "  -9.68917459e-03  2.56762002e-03  1.79802030e-02 -1.11991949e-02\n",
      "  -4.84830420e-03  6.15572371e-03  1.29885990e-02 -7.77999545e-03]\n",
      " [-1.24121802e-02  1.81008969e-03 -5.43582253e-04 -1.02797840e-02\n",
      "  -8.79313215e-04 -2.91291513e-02 -1.85632445e-02  2.17672205e-03\n",
      "  -1.23763969e-02  7.82618672e-03 -9.88424756e-03 -7.45068397e-03]], shape=(10, 12), dtype=float32)\n"
     ]
    }
   ],
   "source": [
    "user_vector = model.User\n",
    "item_vector = model.Item\n",
    "print(user_vector.shape, item_vector.shape)\n",
    "print(user_vector[:10])\n",
    "print(item_vector[:10])"
   ]
  },
  {
   "cell_type": "code",
   "execution_count": null,
   "metadata": {},
   "outputs": [],
   "source": []
  }
 ],
 "metadata": {
  "kernelspec": {
   "display_name": "Python 3",
   "language": "python",
   "name": "python3"
  },
  "language_info": {
   "codemirror_mode": {
    "name": "ipython",
    "version": 3
   },
   "file_extension": ".py",
   "mimetype": "text/x-python",
   "name": "python",
   "nbconvert_exporter": "python",
   "pygments_lexer": "ipython3",
   "version": "3.7.7"
  }
 },
 "nbformat": 4,
 "nbformat_minor": 4
}
