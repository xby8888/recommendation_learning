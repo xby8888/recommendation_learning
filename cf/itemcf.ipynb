{
 "cells": [
  {
   "cell_type": "code",
   "execution_count": 1,
   "metadata": {},
   "outputs": [],
   "source": [
    "import tensorflow as tf\n",
    "import pandas as pd\n",
    "import numpy as np\n",
    "from collections import defaultdict"
   ]
  },
  {
   "cell_type": "code",
   "execution_count": 2,
   "metadata": {},
   "outputs": [],
   "source": [
    "df_rating= pd.read_csv(\"../data/ml-1m/ratings.dat\", sep=\"::\", header=None, engine=\"python\", \n",
    "                     names=\"UserID::MovieID::Rating::Timestamp\".split(\"::\"))"
   ]
  },
  {
   "cell_type": "code",
   "execution_count": 3,
   "metadata": {},
   "outputs": [
    {
     "data": {
      "text/html": [
       "<div>\n",
       "<style scoped>\n",
       "    .dataframe tbody tr th:only-of-type {\n",
       "        vertical-align: middle;\n",
       "    }\n",
       "\n",
       "    .dataframe tbody tr th {\n",
       "        vertical-align: top;\n",
       "    }\n",
       "\n",
       "    .dataframe thead th {\n",
       "        text-align: right;\n",
       "    }\n",
       "</style>\n",
       "<table border=\"1\" class=\"dataframe\">\n",
       "  <thead>\n",
       "    <tr style=\"text-align: right;\">\n",
       "      <th></th>\n",
       "      <th>UserID</th>\n",
       "      <th>MovieID</th>\n",
       "      <th>Rating</th>\n",
       "      <th>Timestamp</th>\n",
       "    </tr>\n",
       "  </thead>\n",
       "  <tbody>\n",
       "    <tr>\n",
       "      <th>697883</th>\n",
       "      <td>4169</td>\n",
       "      <td>2015</td>\n",
       "      <td>4</td>\n",
       "      <td>971579525</td>\n",
       "    </tr>\n",
       "    <tr>\n",
       "      <th>473937</th>\n",
       "      <td>2909</td>\n",
       "      <td>2717</td>\n",
       "      <td>3</td>\n",
       "      <td>971973337</td>\n",
       "    </tr>\n",
       "    <tr>\n",
       "      <th>815556</th>\n",
       "      <td>4897</td>\n",
       "      <td>66</td>\n",
       "      <td>2</td>\n",
       "      <td>962716426</td>\n",
       "    </tr>\n",
       "    <tr>\n",
       "      <th>896985</th>\n",
       "      <td>5424</td>\n",
       "      <td>1580</td>\n",
       "      <td>3</td>\n",
       "      <td>960142938</td>\n",
       "    </tr>\n",
       "    <tr>\n",
       "      <th>628538</th>\n",
       "      <td>3807</td>\n",
       "      <td>2465</td>\n",
       "      <td>2</td>\n",
       "      <td>965967203</td>\n",
       "    </tr>\n",
       "  </tbody>\n",
       "</table>\n",
       "</div>"
      ],
      "text/plain": [
       "        UserID  MovieID  Rating  Timestamp\n",
       "697883    4169     2015       4  971579525\n",
       "473937    2909     2717       3  971973337\n",
       "815556    4897       66       2  962716426\n",
       "896985    5424     1580       3  960142938\n",
       "628538    3807     2465       2  965967203"
      ]
     },
     "execution_count": 3,
     "metadata": {},
     "output_type": "execute_result"
    }
   ],
   "source": [
    "df_rating_sample = df_rating.sample(frac = 0.01)\n",
    "df_rating_sample.head()"
   ]
  },
  {
   "cell_type": "code",
   "execution_count": 4,
   "metadata": {},
   "outputs": [
    {
     "name": "stdout",
     "output_type": "stream",
     "text": [
      "(3713,) (2305,)\n"
     ]
    }
   ],
   "source": [
    "user = df_rating_sample[\"UserID\"].unique()\n",
    "movie = df_rating_sample[\"MovieID\"].unique()\n",
    "print(user.shape, movie.shape)"
   ]
  },
  {
   "cell_type": "code",
   "execution_count": 5,
   "metadata": {},
   "outputs": [
    {
     "name": "stdout",
     "output_type": "stream",
     "text": [
      "10002\n"
     ]
    }
   ],
   "source": [
    "rating_dict = defaultdict(int)\n",
    "for index, row in df_rating_sample.iterrows():\n",
    "    userid = row[\"UserID\"]\n",
    "    movieid = row[\"MovieID\"]\n",
    "    rating = row[\"Rating\"]\n",
    "    key = (movieid, userid)\n",
    "    rating_dict[key] = rating\n",
    "print(len(rating_dict))"
   ]
  },
  {
   "cell_type": "code",
   "execution_count": 6,
   "metadata": {},
   "outputs": [
    {
     "name": "stdout",
     "output_type": "stream",
     "text": [
      "2305 3713 4\n"
     ]
    }
   ],
   "source": [
    "co_matrix = []\n",
    "i = 0\n",
    "j = 0\n",
    "for i in range(len(movie)):\n",
    "    l = []\n",
    "    for j in range(len(user)):\n",
    "        key = (movie[i], user[j])\n",
    "        l.append(rating_dict[key])\n",
    "    co_matrix.append(l)\n",
    "print(len(co_matrix), len(co_matrix[0]), co_matrix[0][0])"
   ]
  },
  {
   "cell_type": "code",
   "execution_count": 7,
   "metadata": {},
   "outputs": [],
   "source": [
    "np_matrix = np.array(co_matrix)\n",
    "movie_sim_dict = defaultdict(list)\n",
    "for i in range(np_matrix.shape[0]):\n",
    "    for j in range(np_matrix.shape[0]):\n",
    "        if j == i:\n",
    "            continue\n",
    "        a_norm = np.linalg.norm(np_matrix[i])\n",
    "        b_norm = np.linalg.norm(np_matrix[j])\n",
    "        similiarity = np.dot(np_matrix[i], np_matrix[j].T)/(a_norm * b_norm)\n",
    "        movie_sim_dict[movie[i]].append((movie[j], similiarity))"
   ]
  },
  {
   "cell_type": "code",
   "execution_count": 14,
   "metadata": {},
   "outputs": [
    {
     "name": "stdout",
     "output_type": "stream",
     "text": [
      "[(504, 0.0), (2345, 0.0), (2459, 0.0), (2307, 0.0), (3087, 0.0), (1061, 0.0), (3506, 0.0), (897, 0.0), (229, 0.0), (2975, 0.0), (1979, 0.15434872662825797), (2650, 0.0), (3051, 0.0), (640, 0.0), (2247, 0.0), (1655, 0.0), (1945, 0.0), (171, 0.0), (2333, 0.0), (569, 0.0), (3030, 0.0), (2871, 0.0), (1027, 0.0), (2320, 0.0), (1290, 0.0), (3060, 0.0), (354, 0.0), (1440, 0.0), (1457, 0.0), (42, 0.0), (2340, 0.0), (1582, 0.0), (2052, 0.0), (1218, 0.0), (2572, 0.0), (1731, 0.0), (2297, 0.0), (1212, 0.0), (2393, 0.0), (3812, 0.0), (2912, 0.0), (1921, 0.0), (147, 0.0), (2799, 0.0), (3450, 0.0), (1517, 0.0), (2024, 0.0), (3267, 0.0), (1089, 0.0), (1936, 0.0), (1961, 0.0), (1985, 0.0), (1175, 0.0), (1339, 0.0), (3372, 0.0), (3568, 0.0), (612, 0.0), (1263, 0.0), (3793, 0.0), (1336, 0.0), (2334, 0.0), (43, 0.0), (635, 0.0), (3801, 0.0), (2947, 0.0), (3240, 0.0), (3604, 0.0), (3668, 0.0), (3097, 0.0), (292, 0.0), (24, 0.0), (2323, 0.0), (3176, 0.0), (2783, 0.4), (2053, 0.16), (1941, 0.0), (2467, 0.0), (861, 0.0), (3932, 0.2057983021710106), (2070, 0.0), (170, 0.0), (2770, 0.0), (2803, 0.0), (161, 0.0), (2456, 0.0), (2548, 0.0), (3763, 0.0), (2616, 0.0), (2755, 0.0), (2624, 0.0), (2587, 0.0), (164, 0.0), (1834, 0.0), (2450, 0.0), (3786, 0.0), (361, 0.0), (246, 0.0), (1931, 0.0), (587, 0.0), (135, 0.0), (2424, 0.0), (2706, 0.0), (1042, 0.0), (1047, 0.0), (368, 0.0), (3102, 0.0), (1449, 0.0), (1257, 0.0), (118, 0.0), (2664, 0.0)]\n"
     ]
    }
   ],
   "source": [
    "print(movie_sim_dict[2015][1000:1110])"
   ]
  },
  {
   "cell_type": "code",
   "execution_count": 15,
   "metadata": {},
   "outputs": [
    {
     "name": "stdout",
     "output_type": "stream",
     "text": [
      "[(3349, 0.4), (1436, 0.4), (2783, 0.4), (941, 0.4), (961, 0.4), (2074, 0.4), (3235, 0.4), (1671, 0.4), (3619, 0.4), (1844, 0.4), (1888, 0.3328201177351375), (2435, 0.3), (3537, 0.3), (3661, 0.3), (1546, 0.3), (479, 0.28284271247461906), (3739, 0.2603778219616477), (2622, 0.24), (2037, 0.24), (1537, 0.22086305214969307), (2447, 0.21213203435596426), (52, 0.21192517713040698), (2848, 0.21192517713040698), (3932, 0.2057983021710106), (1566, 0.2032002032003048), (1326, 0.19402850002906638), (1012, 0.17320508075688776), (1911, 0.17320508075688773), (552, 0.16803361008336115), (1466, 0.16724840200141816)]\n"
     ]
    }
   ],
   "source": [
    "d = movie_sim_dict\n",
    "for k, v in d.items():\n",
    "    d[k] = sorted(v, key=lambda x : x[1], reverse=True)[:30]\n",
    "print(d[2015])"
   ]
  },
  {
   "cell_type": "code",
   "execution_count": 16,
   "metadata": {},
   "outputs": [],
   "source": [
    "user_dict = defaultdict()\n",
    "movie_dict = defaultdict()\n",
    "for i in range(len(user)):\n",
    "    user_dict[user[i]] = i\n",
    "for j in range(len(movie)):\n",
    "    movie_dict[movie[j]] = j"
   ]
  },
  {
   "cell_type": "code",
   "execution_count": 17,
   "metadata": {},
   "outputs": [
    {
     "name": "stdout",
     "output_type": "stream",
     "text": [
      "[4169 2909 4897 5424 3807 3445 1119  695 2929 1547]\n"
     ]
    }
   ],
   "source": [
    "predict_user = user[:10]\n",
    "print(predict_user)"
   ]
  },
  {
   "cell_type": "markdown",
   "metadata": {},
   "source": [
    "![jupyter](./itemcf.png)"
   ]
  },
  {
   "cell_type": "raw",
   "metadata": {},
   "source": [
    "R还是评分，用户u对电影p的评分，H是用户正反馈的电影，w是待推荐电影与用户正反馈电影的相似度"
   ]
  },
  {
   "cell_type": "code",
   "execution_count": 24,
   "metadata": {},
   "outputs": [],
   "source": [
    "predict_rec = defaultdict(list)\n",
    "for u in predict_user:\n",
    "    l=[]\n",
    "    #visit_m可以初始化为字典，因为python里字典查找比列表查找快\n",
    "    visit_m = []\n",
    "    unvisit_m = []\n",
    "    for m in movie:\n",
    "        if(np_matrix[user_dict[u]][movie_dict[m]] > 0):\n",
    "            visit_m.append(m)\n",
    "        else:\n",
    "            unvisit_m.append(m)\n",
    "    \n",
    "    for uvm in unvisit_m:\n",
    "        total_rating = 0\n",
    "        for value in d[uvm]:\n",
    "            #这里对整反馈电影进行查找\n",
    "            if value[0] in visit_m:\n",
    "                total_rating += value[1]*np_matrix[user_dict[u]][movie_dict[value[0]]]\n",
    "        l.append((uvm, total_rating))\n",
    "    predict_rec[u] = l"
   ]
  },
  {
   "cell_type": "code",
   "execution_count": 25,
   "metadata": {},
   "outputs": [],
   "source": [
    "predict_rec_n = predict_rec"
   ]
  },
  {
   "cell_type": "code",
   "execution_count": 26,
   "metadata": {},
   "outputs": [],
   "source": [
    "for k, v in predict_rec_n.items():\n",
    "    predict_rec_n[k] = sorted(v, key=lambda x : x[1], reverse=True)[:20]"
   ]
  },
  {
   "cell_type": "code",
   "execution_count": 28,
   "metadata": {},
   "outputs": [
    {
     "name": "stdout",
     "output_type": "stream",
     "text": [
      "[(3920, 4.0), (2285, 4.0), (427, 2.910427500435996), (3596, 2.8284271247461903), (599, 2.82842712474619), (164, 2.6490647141300876), (2055, 2.558408596267325), (581, 2.4618298195866544), (2215, 2.1213203435596424), (2485, 2.1213203435596424), (1702, 2.0483662259967566), (2937, 2.0), (1009, 1.9845557534273355), (3194, 1.9694638556693236), (1566, 1.7235659238795935), (3349, 1.6), (1436, 1.6), (2783, 1.6), (941, 1.6), (961, 1.6)]\n"
     ]
    }
   ],
   "source": [
    "print(predict_rec_n[4169])"
   ]
  },
  {
   "cell_type": "code",
   "execution_count": null,
   "metadata": {},
   "outputs": [],
   "source": []
  }
 ],
 "metadata": {
  "kernelspec": {
   "display_name": "Python 3",
   "language": "python",
   "name": "python3"
  },
  "language_info": {
   "codemirror_mode": {
    "name": "ipython",
    "version": 3
   },
   "file_extension": ".py",
   "mimetype": "text/x-python",
   "name": "python",
   "nbconvert_exporter": "python",
   "pygments_lexer": "ipython3",
   "version": "3.7.7"
  }
 },
 "nbformat": 4,
 "nbformat_minor": 4
}
