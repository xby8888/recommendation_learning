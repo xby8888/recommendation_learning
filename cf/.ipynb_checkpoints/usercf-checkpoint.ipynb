{
 "cells": [
  {
   "cell_type": "code",
   "execution_count": 10,
   "metadata": {},
   "outputs": [],
   "source": [
    "import tensorflow as tf\n",
    "import pandas as pd\n",
    "import numpy as np\n",
    "from collections import defaultdict"
   ]
  },
  {
   "cell_type": "code",
   "execution_count": 3,
   "metadata": {},
   "outputs": [],
   "source": [
    "#导入数据集\n",
    "df_rating= pd.read_csv(\"../data/ml-1m/ratings.dat\", sep=\"::\", header=None, engine=\"python\", \n",
    "                     names=\"UserID::MovieID::Rating::Timestamp\".split(\"::\"))"
   ]
  },
  {
   "cell_type": "code",
   "execution_count": 8,
   "metadata": {},
   "outputs": [
    {
     "data": {
      "text/html": [
       "<div>\n",
       "<style scoped>\n",
       "    .dataframe tbody tr th:only-of-type {\n",
       "        vertical-align: middle;\n",
       "    }\n",
       "\n",
       "    .dataframe tbody tr th {\n",
       "        vertical-align: top;\n",
       "    }\n",
       "\n",
       "    .dataframe thead th {\n",
       "        text-align: right;\n",
       "    }\n",
       "</style>\n",
       "<table border=\"1\" class=\"dataframe\">\n",
       "  <thead>\n",
       "    <tr style=\"text-align: right;\">\n",
       "      <th></th>\n",
       "      <th>UserID</th>\n",
       "      <th>MovieID</th>\n",
       "      <th>Rating</th>\n",
       "      <th>Timestamp</th>\n",
       "    </tr>\n",
       "  </thead>\n",
       "  <tbody>\n",
       "    <tr>\n",
       "      <th>716442</th>\n",
       "      <td>4289</td>\n",
       "      <td>2420</td>\n",
       "      <td>4</td>\n",
       "      <td>965275831</td>\n",
       "    </tr>\n",
       "    <tr>\n",
       "      <th>648639</th>\n",
       "      <td>3908</td>\n",
       "      <td>587</td>\n",
       "      <td>4</td>\n",
       "      <td>965931274</td>\n",
       "    </tr>\n",
       "    <tr>\n",
       "      <th>524890</th>\n",
       "      <td>3240</td>\n",
       "      <td>345</td>\n",
       "      <td>2</td>\n",
       "      <td>968349972</td>\n",
       "    </tr>\n",
       "    <tr>\n",
       "      <th>662071</th>\n",
       "      <td>3992</td>\n",
       "      <td>161</td>\n",
       "      <td>4</td>\n",
       "      <td>965595861</td>\n",
       "    </tr>\n",
       "    <tr>\n",
       "      <th>353300</th>\n",
       "      <td>2070</td>\n",
       "      <td>3863</td>\n",
       "      <td>5</td>\n",
       "      <td>974659721</td>\n",
       "    </tr>\n",
       "  </tbody>\n",
       "</table>\n",
       "</div>"
      ],
      "text/plain": [
       "        UserID  MovieID  Rating  Timestamp\n",
       "716442    4289     2420       4  965275831\n",
       "648639    3908      587       4  965931274\n",
       "524890    3240      345       2  968349972\n",
       "662071    3992      161       4  965595861\n",
       "353300    2070     3863       5  974659721"
      ]
     },
     "execution_count": 8,
     "metadata": {},
     "output_type": "execute_result"
    }
   ],
   "source": [
    "#随机采样\n",
    "df_rating_sample = df_rating.sample(frac = 0.01)\n",
    "df_rating_sample.head()"
   ]
  },
  {
   "cell_type": "code",
   "execution_count": 9,
   "metadata": {},
   "outputs": [
    {
     "name": "stdout",
     "output_type": "stream",
     "text": [
      "(3671,) (2265,)\n"
     ]
    }
   ],
   "source": [
    "#取出所有用户和电影ID\n",
    "user = df_rating_sample[\"UserID\"].unique()\n",
    "movie = df_rating_sample[\"MovieID\"].unique()\n",
    "print(user.shape, movie.shape)"
   ]
  },
  {
   "cell_type": "code",
   "execution_count": 32,
   "metadata": {},
   "outputs": [],
   "source": [
    "#构造用户电影和评分的字典，为接下来构造共现矩阵做铺垫\n",
    "rating_dict = defaultdict(int)"
   ]
  },
  {
   "cell_type": "code",
   "execution_count": 33,
   "metadata": {},
   "outputs": [
    {
     "name": "stdout",
     "output_type": "stream",
     "text": [
      "10002\n"
     ]
    }
   ],
   "source": [
    "for index, row in df_rating_sample.iterrows():\n",
    "    userid = row[\"UserID\"]\n",
    "    movieid = row[\"MovieID\"]\n",
    "    rating = row[\"Rating\"]\n",
    "    key = (userid, movieid)\n",
    "    rating_dict[key] = rating\n",
    "print(len(rating_dict))"
   ]
  },
  {
   "cell_type": "code",
   "execution_count": 35,
   "metadata": {},
   "outputs": [
    {
     "name": "stdout",
     "output_type": "stream",
     "text": [
      "3671 2265 4\n"
     ]
    }
   ],
   "source": [
    "#构造共现矩阵，行索引代表用户id，列索引代表电影id\n",
    "co_matrix = []\n",
    "i = 0\n",
    "j = 0\n",
    "for i in range(len(user)):\n",
    "    l = []\n",
    "    for j in range(len(movie)):\n",
    "        key = (user[i], movie[j])\n",
    "        l.append(rating_dict[key])\n",
    "    co_matrix.append(l)\n",
    "print(len(co_matrix), len(co_matrix[0]), co_matrix[0][0])"
   ]
  },
  {
   "cell_type": "code",
   "execution_count": 36,
   "metadata": {},
   "outputs": [
    {
     "data": {
      "text/plain": [
       "dtype('int64')"
      ]
     },
     "execution_count": 36,
     "metadata": {},
     "output_type": "execute_result"
    }
   ],
   "source": [
    "np_matrix = np.array(co_matrix)\n",
    "np_matrix.dtype"
   ]
  },
  {
   "cell_type": "code",
   "execution_count": 37,
   "metadata": {},
   "outputs": [
    {
     "data": {
      "text/plain": [
       "(3671, 2265)"
      ]
     },
     "execution_count": 37,
     "metadata": {},
     "output_type": "execute_result"
    }
   ],
   "source": [
    "np_matrix.shape"
   ]
  },
  {
   "cell_type": "code",
   "execution_count": 50,
   "metadata": {},
   "outputs": [],
   "source": [
    "#构造用户余弦相似度矩阵\n",
    "user_sim_dict = defaultdict(list)"
   ]
  },
  {
   "cell_type": "code",
   "execution_count": 51,
   "metadata": {},
   "outputs": [],
   "source": [
    "for i in range(np_matrix.shape[0]):\n",
    "    for j in range(np_matrix.shape[0]):\n",
    "        if j == i:\n",
    "            continue\n",
    "        a_norm = np.linalg.norm(np_matrix[i])\n",
    "        b_norm = np.linalg.norm(np_matrix[j])\n",
    "        similiarity = np.dot(np_matrix[i], np_matrix[j].T)/(a_norm * b_norm)\n",
    "        user_sim_dict[user[i]].append((user[j], similiarity))\n",
    "#这个地方待优化，我理解用户相似度矩阵是个对称的矩阵，只求上半三角就行，循环(n*n-n)/2就行"
   ]
  },
  {
   "cell_type": "code",
   "execution_count": 53,
   "metadata": {},
   "outputs": [
    {
     "name": "stdout",
     "output_type": "stream",
     "text": [
      "3670\n"
     ]
    }
   ],
   "source": [
    "print(len(user_sim_dict[4289]))"
   ]
  },
  {
   "cell_type": "code",
   "execution_count": 57,
   "metadata": {},
   "outputs": [],
   "source": [
    "d = user_sim_dict"
   ]
  },
  {
   "cell_type": "code",
   "execution_count": 58,
   "metadata": {},
   "outputs": [],
   "source": [
    "#按用户相似度值降序排列，取最相近的30名用户\n",
    "for k, v in d.items():\n",
    "    d[k] = sorted(v, key=lambda x : x[1], reverse=True)[:30]"
   ]
  },
  {
   "cell_type": "code",
   "execution_count": 60,
   "metadata": {},
   "outputs": [
    {
     "name": "stdout",
     "output_type": "stream",
     "text": [
      "[(1670, 0.565685424949238), (2741, 0.44172610429938614), (2883, 0.4242640687119285), (413, 0.3999999999999999), (4080, 0.3999999999999999), (4101, 0.3618136134933163), (3847, 0.3394112549695428), (5390, 0.3373096170846271), (82, 0.3123475237772121), (3178, 0.29541957835039856), (5434, 0.29488391230979427), (4633, 0.26111648393354675), (3260, 0.25298221281347033), (4058, 0.2433321316961438), (2485, 0.23999999999999996), (3453, 0.2363515791475006), (3693, 0.2359071298478354), (4271, 0.2286002286003429), (2436, 0.21908902300206642), (916, 0.21828206253269966), (2073, 0.2167313476731508), (3576, 0.19339751136609123), (2608, 0.18973665961010275), (1727, 0.18740851426632724), (149, 0.1811643254631353), (5397, 0.1685854460847049), (1980, 0.15504050659568297), (3513, 0.15301841113520118), (4169, 0.14249409997581927), (482, 0.1271997456007632)]\n"
     ]
    }
   ],
   "source": [
    "print(d[3992])"
   ]
  },
  {
   "cell_type": "code",
   "execution_count": 65,
   "metadata": {},
   "outputs": [],
   "source": [
    "#构造userid:user_index, movieid:movie_index字典，为推荐使用\n",
    "user_dict = defaultdict()\n",
    "movie_dict = defaultdict()\n",
    "for i in range(len(user)):\n",
    "    user_dict[user[i]] = i\n",
    "for j in range(len(movie)):\n",
    "    movie_dict[movie[j]] = j"
   ]
  },
  {
   "cell_type": "code",
   "execution_count": null,
   "metadata": {},
   "outputs": [],
   "source": [
    "#选前10个用户做推荐， 也可以随机选\n",
    "predict_user = user[:10]\n",
    "print(predict_user)"
   ]
  },
  {
   "cell_type": "markdown",
   "metadata": {},
   "source": [
    "![jupyter](./usercf.png)"
   ]
  },
  {
   "cell_type": "raw",
   "metadata": {},
   "source": [
    "S是用户u的相似用户top集合，u是用户，R是评分，p是电影，w是相似度即余弦值"
   ]
  },
  {
   "cell_type": "code",
   "execution_count": null,
   "metadata": {},
   "outputs": [],
   "source": [
    "#根据用户相似度进行推荐\n",
    "predict_rec = defaultdict(list)\n",
    "for u in predict_user:\n",
    "    l = []\n",
    "    s = d[u]\n",
    "    for w in s:\n",
    "        total_w += w[1]\n",
    "    if total_w == 0:\n",
    "        continue\n",
    "    for m in movie:\n",
    "        #取用户无评价的做推荐（默认0就是无评价，也有可能是就评价0，这里忽略）当作没看过的\n",
    "        if(np_matrix[user_dict[u]][movie_dict[m]]==0):\n",
    "            total_rating = 0\n",
    "            for w in s:\n",
    "                neighoor_u = w[0]\n",
    "                total_rating += w[1]*np_matrix[user_dict[neighoor_u]][movie_dict[m]]\n",
    "            rates = total_rating / total_w\n",
    "            l.append((m, rates))\n",
    "    predict_rec[u] = l\n",
    "                \n",
    "            \n",
    "        "
   ]
  },
  {
   "cell_type": "code",
   "execution_count": 126,
   "metadata": {},
   "outputs": [],
   "source": [
    "predict_rec_n = predict_rec"
   ]
  },
  {
   "cell_type": "code",
   "execution_count": 127,
   "metadata": {},
   "outputs": [],
   "source": [
    "#取推荐评分最高的前50 个\n",
    "for k, v in predict_rec_n.items():\n",
    "    predict_rec_n[k] = sorted(v, key=lambda x : x[1], reverse=True)[:50]"
   ]
  },
  {
   "cell_type": "code",
   "execution_count": 128,
   "metadata": {},
   "outputs": [
    {
     "name": "stdout",
     "output_type": "stream",
     "text": [
      "[(1641, 0.196272076271877), (2028, 0.19488083938246864), (2677, 0.15701766101750161), (1396, 0.15462030403785382), (1240, 0.15462030403785382), (1964, 0.1269873737207597), (1237, 0.1241333604218842), (2019, 0.1241333604218842), (1732, 0.1241333604218842), (306, 0.1241333604218842), (316, 0.12252429228261652), (3505, 0.12239730117121274), (3911, 0.11776324576312622), (3551, 0.11764841078138884), (2858, 0.10658712275666496), (50, 0.09808815521621263), (2915, 0.09808815521621263), (1958, 0.09749547211513011), (1258, 0.09691340439285069), (269, 0.09691340439285069), (2333, 0.09421059661050096), (1580, 0.0941517701317021), (2921, 0.0941517701317021), (3175, 0.0941517701317021), (2870, 0.0941517701317021), (3638, 0.0941517701317021), (2313, 0.0941517701317021), (1371, 0.0941517701317021), (1266, 0.09139770373589474), (480, 0.08586805069271454), (2347, 0.08586805069271454), (2058, 0.0819997991207191), (733, 0.0819997991207191), (589, 0.08108357149083004), (3770, 0.07847052417297011), (454, 0.07799637769210409), (2302, 0.07619242423245581), (1059, 0.07121651699954579), (380, 0.07061382759877657), (3635, 0.06869444055417163), (1081, 0.06869444055417163), (1017, 0.06854827780192105), (2167, 0.06081267861812253), (3083, 0.05849728326907807), (3598, 0.05849728326907807), (2478, 0.05814804263571041), (1028, 0.05814804263571041), (912, 0.05152083041562873), (2294, 0.04734260609584241), (1387, 0.04681362182708699)]\n"
     ]
    }
   ],
   "source": [
    "print(predict_rec_n[3908])"
   ]
  },
  {
   "cell_type": "code",
   "execution_count": null,
   "metadata": {},
   "outputs": [],
   "source": []
  }
 ],
 "metadata": {
  "kernelspec": {
   "display_name": "Python 3",
   "language": "python",
   "name": "python3"
  },
  "language_info": {
   "codemirror_mode": {
    "name": "ipython",
    "version": 3
   },
   "file_extension": ".py",
   "mimetype": "text/x-python",
   "name": "python",
   "nbconvert_exporter": "python",
   "pygments_lexer": "ipython3",
   "version": "3.7.7"
  }
 },
 "nbformat": 4,
 "nbformat_minor": 4
}
