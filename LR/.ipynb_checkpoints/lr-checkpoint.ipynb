{
 "cells": [
  {
   "cell_type": "code",
   "execution_count": 1,
   "metadata": {},
   "outputs": [],
   "source": [
    "import tensorflow as tf\n",
    "import pandas as pd\n",
    "import numpy as np\n",
    "from tensorflow import keras\n",
    "from tensorflow.keras import layers\n",
    "from collections import defaultdict\n",
    "import matplotlib.pyplot as plt"
   ]
  },
  {
   "cell_type": "code",
   "execution_count": null,
   "metadata": {},
   "outputs": [],
   "source": [
    "#这部分学习了蚂蚁学python大佬的内容"
   ]
  },
  {
   "cell_type": "code",
   "execution_count": 2,
   "metadata": {},
   "outputs": [],
   "source": [
    "df_user= pd.read_csv(\"../data/ml-1m/users.dat\", sep=\"::\", header=None, engine=\"python\", \n",
    "                     names=\"UserID::Gender::Age::Occupation::Zip-code\".split(\"::\"))\n",
    "df_movie= pd.read_csv(\"../data/ml-1m/movies.dat\", sep=\"::\", header=None, engine=\"python\", \n",
    "                     names=\"MovieID::Title::Genres\".split(\"::\"))\n",
    "df_rating= pd.read_csv(\"../data/ml-1m/ratings.dat\", sep=\"::\", header=None, engine=\"python\", \n",
    "                     names=\"UserID::MovieID::Rating::Timestamp\".split(\"::\"))"
   ]
  },
  {
   "cell_type": "code",
   "execution_count": 3,
   "metadata": {},
   "outputs": [
    {
     "data": {
      "text/plain": [
       "{'Animation': 106,\n",
       " \"Children's\": 252,\n",
       " 'Comedy': 1201,\n",
       " 'Adventure': 284,\n",
       " 'Fantasy': 69,\n",
       " 'Romance': 472,\n",
       " 'Drama': 1604,\n",
       " 'Action': 504,\n",
       " 'Crime': 212,\n",
       " 'Thriller': 493,\n",
       " 'Horror': 344,\n",
       " 'Sci-Fi': 277,\n",
       " 'Documentary': 128,\n",
       " 'War': 144,\n",
       " 'Musical': 115,\n",
       " 'Mystery': 107,\n",
       " 'Film-Noir': 45,\n",
       " 'Western': 69}"
      ]
     },
     "execution_count": 3,
     "metadata": {},
     "output_type": "execute_result"
    }
   ],
   "source": [
    "#统计题材频率\n",
    "genre_dict = dict()\n",
    "for genres in df_movie[\"Genres\"].str.split(\"|\"):\n",
    "    for genre in genres:\n",
    "        if genre not in genre_dict:\n",
    "            genre_dict[genre] = 1\n",
    "        genre_dict[genre] += 1\n",
    "genre_dict"
   ]
  },
  {
   "cell_type": "code",
   "execution_count": 4,
   "metadata": {},
   "outputs": [],
   "source": [
    "#为每个电影选择频率最高的题材\n",
    "def get_highrate_genre(x):\n",
    "    sub_genre = {}\n",
    "    for genre in x.split(\"|\"):\n",
    "        sub_genre[genre] = genre_dict[genre]\n",
    "    return sorted(sub_genre.items(), key=lambda x:x[1], reverse=True)[0][0]\n",
    "df_movie[\"Genres\"] = df_movie[\"Genres\"].map(get_highrate_genre)"
   ]
  },
  {
   "cell_type": "code",
   "execution_count": 5,
   "metadata": {},
   "outputs": [
    {
     "data": {
      "text/html": [
       "<div>\n",
       "<style scoped>\n",
       "    .dataframe tbody tr th:only-of-type {\n",
       "        vertical-align: middle;\n",
       "    }\n",
       "\n",
       "    .dataframe tbody tr th {\n",
       "        vertical-align: top;\n",
       "    }\n",
       "\n",
       "    .dataframe thead th {\n",
       "        text-align: right;\n",
       "    }\n",
       "</style>\n",
       "<table border=\"1\" class=\"dataframe\">\n",
       "  <thead>\n",
       "    <tr style=\"text-align: right;\">\n",
       "      <th></th>\n",
       "      <th>MovieID</th>\n",
       "      <th>Title</th>\n",
       "      <th>Genres</th>\n",
       "    </tr>\n",
       "  </thead>\n",
       "  <tbody>\n",
       "    <tr>\n",
       "      <th>0</th>\n",
       "      <td>1</td>\n",
       "      <td>Toy Story (1995)</td>\n",
       "      <td>Comedy</td>\n",
       "    </tr>\n",
       "    <tr>\n",
       "      <th>1</th>\n",
       "      <td>2</td>\n",
       "      <td>Jumanji (1995)</td>\n",
       "      <td>Adventure</td>\n",
       "    </tr>\n",
       "    <tr>\n",
       "      <th>2</th>\n",
       "      <td>3</td>\n",
       "      <td>Grumpier Old Men (1995)</td>\n",
       "      <td>Comedy</td>\n",
       "    </tr>\n",
       "    <tr>\n",
       "      <th>3</th>\n",
       "      <td>4</td>\n",
       "      <td>Waiting to Exhale (1995)</td>\n",
       "      <td>Drama</td>\n",
       "    </tr>\n",
       "    <tr>\n",
       "      <th>4</th>\n",
       "      <td>5</td>\n",
       "      <td>Father of the Bride Part II (1995)</td>\n",
       "      <td>Comedy</td>\n",
       "    </tr>\n",
       "  </tbody>\n",
       "</table>\n",
       "</div>"
      ],
      "text/plain": [
       "   MovieID                               Title     Genres\n",
       "0        1                    Toy Story (1995)     Comedy\n",
       "1        2                      Jumanji (1995)  Adventure\n",
       "2        3             Grumpier Old Men (1995)     Comedy\n",
       "3        4            Waiting to Exhale (1995)      Drama\n",
       "4        5  Father of the Bride Part II (1995)     Comedy"
      ]
     },
     "execution_count": 5,
     "metadata": {},
     "output_type": "execute_result"
    }
   ],
   "source": [
    "df_movie.head()"
   ]
  },
  {
   "cell_type": "code",
   "execution_count": 6,
   "metadata": {},
   "outputs": [],
   "source": [
    "def add_index_column(para_dif, column_name):\n",
    "    values = list(para_dif[column_name].unique())\n",
    "    value_index_dict = {value:index for index, value in enumerate(values)}\n",
    "    para_dif[f\"{column_name}_idx\"] = para_dif[column_name].map(value_index_dict)"
   ]
  },
  {
   "cell_type": "code",
   "execution_count": 7,
   "metadata": {},
   "outputs": [],
   "source": [
    "add_index_column(df_user, \"UserID\")\n",
    "add_index_column(df_user, \"Gender\")\n",
    "add_index_column(df_user, \"Age\")\n",
    "add_index_column(df_user, \"Occupation\")\n",
    "add_index_column(df_movie, \"MovieID\")\n",
    "add_index_column(df_movie, \"Genres\")"
   ]
  },
  {
   "cell_type": "code",
   "execution_count": 8,
   "metadata": {},
   "outputs": [],
   "source": [
    "df = pd.merge(pd.merge(df_rating, df_user),df_movie)\n",
    "df.drop(columns=[\"Timestamp\", \"Zip-code\", \"Title\"], inplace=True)"
   ]
  },
  {
   "cell_type": "code",
   "execution_count": 9,
   "metadata": {},
   "outputs": [
    {
     "data": {
      "text/plain": [
       "(6040, 3883, 2, 7, 21, 18)"
      ]
     },
     "execution_count": 9,
     "metadata": {},
     "output_type": "execute_result"
    }
   ],
   "source": [
    "num_users = df[\"UserID_idx\"].max() + 1\n",
    "num_movies = df[\"MovieID_idx\"].max() + 1\n",
    "num_genders = df[\"Gender_idx\"].max() + 1\n",
    "num_ages = df[\"Age_idx\"].max() + 1\n",
    "num_occupations = df[\"Occupation_idx\"].max() + 1\n",
    "num_genres = df[\"Genres_idx\"].max() + 1\n",
    "num_users, num_movies, num_genders, num_ages, num_occupations, num_genres"
   ]
  },
  {
   "cell_type": "code",
   "execution_count": 10,
   "metadata": {},
   "outputs": [
    {
     "data": {
      "text/html": [
       "<div>\n",
       "<style scoped>\n",
       "    .dataframe tbody tr th:only-of-type {\n",
       "        vertical-align: middle;\n",
       "    }\n",
       "\n",
       "    .dataframe tbody tr th {\n",
       "        vertical-align: top;\n",
       "    }\n",
       "\n",
       "    .dataframe thead th {\n",
       "        text-align: right;\n",
       "    }\n",
       "</style>\n",
       "<table border=\"1\" class=\"dataframe\">\n",
       "  <thead>\n",
       "    <tr style=\"text-align: right;\">\n",
       "      <th></th>\n",
       "      <th>UserID</th>\n",
       "      <th>MovieID</th>\n",
       "      <th>Rating</th>\n",
       "      <th>Gender</th>\n",
       "      <th>Age</th>\n",
       "      <th>Occupation</th>\n",
       "      <th>UserID_idx</th>\n",
       "      <th>Gender_idx</th>\n",
       "      <th>Age_idx</th>\n",
       "      <th>Occupation_idx</th>\n",
       "      <th>Genres</th>\n",
       "      <th>MovieID_idx</th>\n",
       "      <th>Genres_idx</th>\n",
       "    </tr>\n",
       "  </thead>\n",
       "  <tbody>\n",
       "    <tr>\n",
       "      <th>0</th>\n",
       "      <td>1</td>\n",
       "      <td>1193</td>\n",
       "      <td>1.00</td>\n",
       "      <td>F</td>\n",
       "      <td>1</td>\n",
       "      <td>10</td>\n",
       "      <td>0</td>\n",
       "      <td>0</td>\n",
       "      <td>0</td>\n",
       "      <td>0</td>\n",
       "      <td>Drama</td>\n",
       "      <td>1176</td>\n",
       "      <td>2</td>\n",
       "    </tr>\n",
       "    <tr>\n",
       "      <th>1</th>\n",
       "      <td>2</td>\n",
       "      <td>1193</td>\n",
       "      <td>1.00</td>\n",
       "      <td>M</td>\n",
       "      <td>56</td>\n",
       "      <td>16</td>\n",
       "      <td>1</td>\n",
       "      <td>1</td>\n",
       "      <td>1</td>\n",
       "      <td>1</td>\n",
       "      <td>Drama</td>\n",
       "      <td>1176</td>\n",
       "      <td>2</td>\n",
       "    </tr>\n",
       "    <tr>\n",
       "      <th>2</th>\n",
       "      <td>12</td>\n",
       "      <td>1193</td>\n",
       "      <td>0.75</td>\n",
       "      <td>M</td>\n",
       "      <td>25</td>\n",
       "      <td>12</td>\n",
       "      <td>11</td>\n",
       "      <td>1</td>\n",
       "      <td>2</td>\n",
       "      <td>7</td>\n",
       "      <td>Drama</td>\n",
       "      <td>1176</td>\n",
       "      <td>2</td>\n",
       "    </tr>\n",
       "    <tr>\n",
       "      <th>3</th>\n",
       "      <td>15</td>\n",
       "      <td>1193</td>\n",
       "      <td>0.75</td>\n",
       "      <td>M</td>\n",
       "      <td>25</td>\n",
       "      <td>7</td>\n",
       "      <td>14</td>\n",
       "      <td>1</td>\n",
       "      <td>2</td>\n",
       "      <td>3</td>\n",
       "      <td>Drama</td>\n",
       "      <td>1176</td>\n",
       "      <td>2</td>\n",
       "    </tr>\n",
       "    <tr>\n",
       "      <th>4</th>\n",
       "      <td>17</td>\n",
       "      <td>1193</td>\n",
       "      <td>1.00</td>\n",
       "      <td>M</td>\n",
       "      <td>50</td>\n",
       "      <td>1</td>\n",
       "      <td>16</td>\n",
       "      <td>1</td>\n",
       "      <td>4</td>\n",
       "      <td>6</td>\n",
       "      <td>Drama</td>\n",
       "      <td>1176</td>\n",
       "      <td>2</td>\n",
       "    </tr>\n",
       "  </tbody>\n",
       "</table>\n",
       "</div>"
      ],
      "text/plain": [
       "   UserID  MovieID  Rating Gender  Age  Occupation  UserID_idx  Gender_idx  \\\n",
       "0       1     1193    1.00      F    1          10           0           0   \n",
       "1       2     1193    1.00      M   56          16           1           1   \n",
       "2      12     1193    0.75      M   25          12          11           1   \n",
       "3      15     1193    0.75      M   25           7          14           1   \n",
       "4      17     1193    1.00      M   50           1          16           1   \n",
       "\n",
       "   Age_idx  Occupation_idx Genres  MovieID_idx  Genres_idx  \n",
       "0        0               0  Drama         1176           2  \n",
       "1        1               1  Drama         1176           2  \n",
       "2        2               7  Drama         1176           2  \n",
       "3        2               3  Drama         1176           2  \n",
       "4        4               6  Drama         1176           2  "
      ]
     },
     "execution_count": 10,
     "metadata": {},
     "output_type": "execute_result"
    }
   ],
   "source": [
    "#对频分进行大小归一化\n",
    "min_value = df[\"Rating\"].min()\n",
    "max_value = df[\"Rating\"].max()\n",
    "df[\"Rating\"] = df[\"Rating\"].map(lambda x: (x-min_value)/(max_value - min_value))\n",
    "df.head()"
   ]
  },
  {
   "cell_type": "code",
   "execution_count": 11,
   "metadata": {},
   "outputs": [],
   "source": [
    "#随机采样10%的数据做训练数据\n",
    "df_sample=df.sample(frac = 0.1)\n",
    "X = df_sample[[\"UserID_idx\", \"Gender_idx\", \"Age_idx\", \"Occupation_idx\", \"MovieID_idx\", \"Genres_idx\"]]\n",
    "Y = df_sample.pop(\"Rating\")"
   ]
  },
  {
   "cell_type": "code",
   "execution_count": 37,
   "metadata": {},
   "outputs": [],
   "source": [
    "#通过函数式API搭建模型\n",
    "# 输入\n",
    "user_id = keras.layers.Input(shape=(1,), name=\"user_id\")\n",
    "gender = keras.layers.Input(shape=(1,), name=\"gender\")\n",
    "age = keras.layers.Input(shape=(1,), name=\"age\")\n",
    "occupation = keras.layers.Input(shape=(1,), name=\"occupation\")\n",
    "movie_id = keras.layers.Input(shape=(1,), name=\"movie_id\")\n",
    "genre = keras.layers.Input(shape=(1,), name=\"genre\")\n",
    "\n",
    "# embedding 这里使用离散化，分桶，onehot更好\n",
    "input_embedding = tf.keras.layers.concatenate([\n",
    "        layers.Embedding(num_users, 100)(user_id), \n",
    "        layers.Embedding(num_genders, 2)(gender), \n",
    "        layers.Embedding(num_ages, 2)(age), \n",
    "        layers.Embedding(num_occupations, 2)(occupation),\n",
    "        layers.Embedding(num_movies, 100)(movie_id),\n",
    "        layers.Embedding(num_genres, 2)(genre)\n",
    "])\n",
    "#lr\n",
    "output = layers.Dense(1, activation='sigmoid')(input_embedding)\n",
    "\n",
    "lr_model = keras.models.Model(inputs=[user_id, gender, age, occupation, movie_id, genre], outputs=[output])"
   ]
  },
  {
   "cell_type": "code",
   "execution_count": 38,
   "metadata": {},
   "outputs": [],
   "source": [
    "lr_model.compile(loss=tf.keras.losses.MeanSquaredError(), \n",
    "              optimizer=keras.optimizers.RMSprop())"
   ]
  },
  {
   "cell_type": "code",
   "execution_count": 39,
   "metadata": {},
   "outputs": [
    {
     "name": "stdout",
     "output_type": "stream",
     "text": [
      "Train on 100021 samples\n",
      "Epoch 1/3\n",
      "100021/100021 [==============================] - 19s 191us/sample - loss: 0.0615\n",
      "Epoch 2/3\n",
      "100021/100021 [==============================] - 19s 186us/sample - loss: 0.0537\n",
      "Epoch 3/3\n",
      "100021/100021 [==============================] - 19s 185us/sample - loss: 0.0521\n"
     ]
    }
   ],
   "source": [
    "fit_x_train = [\n",
    "        X[\"UserID_idx\"], \n",
    "        X[\"Gender_idx\"],\n",
    "        X[\"Age_idx\"],\n",
    "        X[\"Occupation_idx\"],\n",
    "        X[\"MovieID_idx\"],\n",
    "        X[\"Genres_idx\"]\n",
    "    ]\n",
    "history = lr_model.fit(\n",
    "    x=fit_x_train,\n",
    "    y=Y,\n",
    "    batch_size=32,\n",
    "    epochs=3,\n",
    "    verbose=1\n",
    ")"
   ]
  },
  {
   "cell_type": "code",
   "execution_count": 40,
   "metadata": {},
   "outputs": [
    {
     "name": "stdout",
     "output_type": "stream",
     "text": [
      "Model: \"model_5\"\n",
      "__________________________________________________________________________________________________\n",
      "Layer (type)                    Output Shape         Param #     Connected to                     \n",
      "==================================================================================================\n",
      "user_id (InputLayer)            [(None, 1)]          0                                            \n",
      "__________________________________________________________________________________________________\n",
      "gender (InputLayer)             [(None, 1)]          0                                            \n",
      "__________________________________________________________________________________________________\n",
      "age (InputLayer)                [(None, 1)]          0                                            \n",
      "__________________________________________________________________________________________________\n",
      "occupation (InputLayer)         [(None, 1)]          0                                            \n",
      "__________________________________________________________________________________________________\n",
      "movie_id (InputLayer)           [(None, 1)]          0                                            \n",
      "__________________________________________________________________________________________________\n",
      "genre (InputLayer)              [(None, 1)]          0                                            \n",
      "__________________________________________________________________________________________________\n",
      "embedding_42 (Embedding)        (None, 1, 100)       604000      user_id[0][0]                    \n",
      "__________________________________________________________________________________________________\n",
      "embedding_43 (Embedding)        (None, 1, 2)         4           gender[0][0]                     \n",
      "__________________________________________________________________________________________________\n",
      "embedding_44 (Embedding)        (None, 1, 2)         14          age[0][0]                        \n",
      "__________________________________________________________________________________________________\n",
      "embedding_45 (Embedding)        (None, 1, 2)         42          occupation[0][0]                 \n",
      "__________________________________________________________________________________________________\n",
      "embedding_46 (Embedding)        (None, 1, 100)       388300      movie_id[0][0]                   \n",
      "__________________________________________________________________________________________________\n",
      "embedding_47 (Embedding)        (None, 1, 2)         36          genre[0][0]                      \n",
      "__________________________________________________________________________________________________\n",
      "concatenate_7 (Concatenate)     (None, 1, 208)       0           embedding_42[0][0]               \n",
      "                                                                 embedding_43[0][0]               \n",
      "                                                                 embedding_44[0][0]               \n",
      "                                                                 embedding_45[0][0]               \n",
      "                                                                 embedding_46[0][0]               \n",
      "                                                                 embedding_47[0][0]               \n",
      "__________________________________________________________________________________________________\n",
      "dense_4 (Dense)                 (None, 1, 1)         209         concatenate_7[0][0]              \n",
      "==================================================================================================\n",
      "Total params: 992,605\n",
      "Trainable params: 992,605\n",
      "Non-trainable params: 0\n",
      "__________________________________________________________________________________________________\n"
     ]
    }
   ],
   "source": [
    "lr_model.summary()"
   ]
  },
  {
   "cell_type": "code",
   "execution_count": 20,
   "metadata": {},
   "outputs": [
    {
     "data": {
      "text/plain": [
       "array([[[0.5564158 ]],\n",
       "\n",
       "       [[0.51679534]],\n",
       "\n",
       "       [[0.47350368]],\n",
       "\n",
       "       [[0.48130527]],\n",
       "\n",
       "       [[0.7634226 ]],\n",
       "\n",
       "       [[0.7762455 ]],\n",
       "\n",
       "       [[0.7143663 ]],\n",
       "\n",
       "       [[0.70344865]],\n",
       "\n",
       "       [[0.6972403 ]],\n",
       "\n",
       "       [[0.4059684 ]]], dtype=float32)"
      ]
     },
     "execution_count": 20,
     "metadata": {},
     "output_type": "execute_result"
    }
   ],
   "source": [
    "inputs = df_sample[[\"UserID_idx\", \"Gender_idx\", \"Age_idx\", \"Occupation_idx\", \"MovieID_idx\", \"Genres_idx\"]].head(10)\n",
    "lr_model.predict(\n",
    "        [inputs[\"UserID_idx\"], \n",
    "        inputs[\"Gender_idx\"],\n",
    "        inputs[\"Age_idx\"],\n",
    "        inputs[\"Occupation_idx\"],\n",
    "        inputs[\"MovieID_idx\"],\n",
    "        inputs[\"Genres_idx\"]])"
   ]
  },
  {
   "cell_type": "code",
   "execution_count": 17,
   "metadata": {},
   "outputs": [
    {
     "data": {
      "text/plain": [
       "900536    0.25\n",
       "697275    0.50\n",
       "995769    0.50\n",
       "358202    0.25\n",
       "733490    0.75\n",
       "89014     0.75\n",
       "288483    1.00\n",
       "5761      1.00\n",
       "812646    0.75\n",
       "576595    0.50\n",
       "Name: Rating, dtype: float64"
      ]
     },
     "execution_count": 17,
     "metadata": {},
     "output_type": "execute_result"
    }
   ],
   "source": [
    "Y[:10]"
   ]
  },
  {
   "cell_type": "code",
   "execution_count": null,
   "metadata": {},
   "outputs": [],
   "source": []
  }
 ],
 "metadata": {
  "kernelspec": {
   "display_name": "Python 3",
   "language": "python",
   "name": "python3"
  },
  "language_info": {
   "codemirror_mode": {
    "name": "ipython",
    "version": 3
   },
   "file_extension": ".py",
   "mimetype": "text/x-python",
   "name": "python",
   "nbconvert_exporter": "python",
   "pygments_lexer": "ipython3",
   "version": "3.7.7"
  }
 },
 "nbformat": 4,
 "nbformat_minor": 4
}
